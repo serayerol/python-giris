{
 "cells": [
  {
   "cell_type": "markdown",
   "metadata": {},
   "source": [
    "# Bootcamp : Python'a Giriş\n",
    "## 2.2. Python Temeller\n",
    "### Bileşik Faiz Hesaplama"
   ]
  },
  {
   "cell_type": "code",
   "execution_count": 1,
   "metadata": {},
   "outputs": [],
   "source": [
    "import numpy as np\n",
    "import pandas as pd\n",
    "import matplotlib.pyplot as plt"
   ]
  },
  {
   "cell_type": "code",
   "execution_count": 2,
   "metadata": {
    "scrolled": true
   },
   "outputs": [
    {
     "name": "stdout",
     "output_type": "stream",
     "text": [
      "Dönemsel Faiz Oranı : 12\n",
      "Anapara :1000\n",
      "Dönem Sayısı :7\n"
     ]
    }
   ],
   "source": [
    "faiz = input('Dönemsel Faiz Oranı : ')\n",
    "anapara = input('Anapara :') \n",
    "dönemsayısı=input('Dönem Sayısı :')"
   ]
  },
  {
   "cell_type": "code",
   "execution_count": 8,
   "metadata": {
    "scrolled": false
   },
   "outputs": [
    {
     "name": "stdout",
     "output_type": "stream",
     "text": [
      "Hafta başında 1000 dolarlık bitcoin aldığımızda günde ortalama %12 kazançla,bir hafta sonunda 1210.68 dolar kazanırdık.\n"
     ]
    }
   ],
   "source": [
    "anaparaf = float(anapara)\n",
    "faizf= float(faiz)/100\n",
    "kazanc = anaparaf * (1 + faizf)**int(dönemsayısı) - anaparaf\n",
    "\n",
    "cıktı = 'Hafta başında 1000 dolarlık bitcoin aldığımızda günde ortalama %{} kazançla,bir hafta sonunda {:.2f} dolar kazanırdık.'\n",
    "print (cıktı.format(faiz,kazanc))\n",
    "\n"
   ]
  },
  {
   "cell_type": "markdown",
   "metadata": {},
   "source": [
    "### Yatırım Hesaplayıcı"
   ]
  },
  {
   "cell_type": "code",
   "execution_count": 5,
   "metadata": {},
   "outputs": [
    {
     "name": "stdout",
     "output_type": "stream",
     "text": [
      "Yatırım Aracı:12\n",
      "Dönemsel Faiz Oranı : 12\n",
      "Anapara :1000\n",
      "Dönem Sayısı (Gün/Ay/Yıl) :7\n",
      "1000.0 dolarlık 12 aldığımızda dönemlik ortalama yüzde %12 kazançla,7 dönem(gün/ay/yıl) sonunda 1210.68 dolar  kazanırdık.\n"
     ]
    }
   ],
   "source": [
    "yatırımaracı=input('Yatırım Aracı:')\n",
    "faiz = input('Dönemsel Faiz Oranı : ')\n",
    "anapara = input('Anapara :') \n",
    "dönemsayısı=input('Dönem Sayısı (Gün/Ay/Yıl) :')\n",
    "anaparaf = float(anapara)\n",
    "faizf= float(faiz)/100\n",
    "kazanc = anaparaf * (1 + faizf)**int(dönemsayısı) - anaparaf\n",
    "\n",
    "\n",
    "cıktı = '{} dolarlık {} aldığımızda dönemlik ortalama yüzde %{} kazançla,{} dönem(gün/ay/yıl) sonunda {:.2f} dolar  kazanırdık.'\n",
    "print (cıktı.format(anaparaf,yatırımaracı,faiz,dönemsayısı,kazanc))"
   ]
  }
 ],
 "metadata": {
  "kernelspec": {
   "display_name": "Python 3",
   "language": "python",
   "name": "python3"
  },
  "language_info": {
   "codemirror_mode": {
    "name": "ipython",
    "version": 3
   },
   "file_extension": ".py",
   "mimetype": "text/x-python",
   "name": "python",
   "nbconvert_exporter": "python",
   "pygments_lexer": "ipython3",
   "version": "3.7.4"
  }
 },
 "nbformat": 4,
 "nbformat_minor": 2
}
