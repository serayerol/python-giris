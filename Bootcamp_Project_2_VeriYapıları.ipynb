{
 "cells": [
  {
   "cell_type": "markdown",
   "metadata": {},
   "source": [
    "## Bootcamp | Project 2 | Veri Yapıları"
   ]
  },
  {
   "cell_type": "code",
   "execution_count": 1,
   "metadata": {},
   "outputs": [],
   "source": [
    "import numpy as np\n",
    "import pandas as pd\n",
    "import array as arr\n",
    "import matplotlib.pyplot as plt"
   ]
  },
  {
   "cell_type": "code",
   "execution_count": 2,
   "metadata": {},
   "outputs": [
    {
     "name": "stdout",
     "output_type": "stream",
     "text": [
      "{'1': 'Monday', '2': 'Tuesday', '3': 'Wednesday', '4': 'Thursday', '5': 'Friday', '6': 'Saturday', '7': 'Sunday'}\n",
      "Please enter 2 preferred days(Ex. For Monday & Tuesday 12):24\n"
     ]
    }
   ],
   "source": [
    "days = {\n",
    "        \"1\": \"Monday\",\n",
    "        \"2\": \"Tuesday\",\n",
    "        \"3\": \"Wednesday\",\n",
    "        \"4\": \"Thursday\",\n",
    "        \"5\": \"Friday\",\n",
    "        \"6\": \"Saturday\",\n",
    "        \"7\": \"Sunday\"\n",
    "}\n",
    "print (days)\n",
    "\n",
    "choosenDays = input('Please enter 2 preferred days(Ex. For Monday & Tuesday 12):')\n",
    "\n"
   ]
  },
  {
   "cell_type": "code",
   "execution_count": 3,
   "metadata": {
    "scrolled": true
   },
   "outputs": [
    {
     "name": "stdout",
     "output_type": "stream",
     "text": [
      "<class 'int'>\n",
      "<class 'int'>\n"
     ]
    }
   ],
   "source": [
    "s=choosenDays\n",
    ">>> choosenDay1=[int(i) for i in s][0] \n",
    ">>> choosenDay2=[int(i) for i in s][1]\n",
    ">>> print (type(choosenDay1)) \n",
    ">>> print (type(choosenDay2))"
   ]
  },
  {
   "cell_type": "code",
   "execution_count": 4,
   "metadata": {
    "scrolled": false
   },
   "outputs": [],
   "source": [
    "    del days[str(choosenDay1)]"
   ]
  },
  {
   "cell_type": "code",
   "execution_count": 5,
   "metadata": {
    "scrolled": false
   },
   "outputs": [
    {
     "name": "stdout",
     "output_type": "stream",
     "text": [
      "{'1': 'Monday', '3': 'Wednesday', '5': 'Friday', '6': 'Saturday', '7': 'Sunday'}\n"
     ]
    }
   ],
   "source": [
    "    del days[str(choosenDay2)]\n",
    "    print(days)"
   ]
  },
  {
   "cell_type": "code",
   "execution_count": 6,
   "metadata": {
    "scrolled": true
   },
   "outputs": [
    {
     "name": "stdout",
     "output_type": "stream",
     "text": [
      "['January']\n",
      "['January', 'February']\n",
      "['January', 'February', 'March']\n",
      "['January', 'February', 'March', 'April']\n",
      "['January', 'February', 'March', 'April', 'May']\n",
      "['January', 'February', 'March', 'April', 'May', 'June']\n",
      "['January', 'February', 'March', 'April', 'May', 'June', 'July']\n",
      "['January', 'February', 'March', 'April', 'May', 'June', 'July', 'August']\n",
      "['January', 'February', 'March', 'April', 'May', 'June', 'July', 'August', 'September']\n",
      "['January', 'February', 'March', 'April', 'May', 'June', 'July', 'August', 'September', 'October']\n",
      "['January', 'February', 'March', 'April', 'May', 'June', 'July', 'August', 'September', 'October', 'November']\n",
      "['January', 'February', 'March', 'April', 'May', 'June', 'July', 'August', 'September', 'October', 'November', 'December']\n",
      "['31']\n",
      "['31', '28']\n",
      "['31', '28', '31']\n",
      "['31', '28', '31', '30']\n",
      "['31', '28', '31', '30', '31']\n",
      "['31', '28', '31', '30', '31', '30']\n",
      "['31', '28', '31', '30', '31', '30', '31']\n",
      "['31', '28', '31', '30', '31', '30', '31', '31']\n",
      "['31', '28', '31', '30', '31', '30', '31', '31', '30']\n",
      "['31', '28', '31', '30', '31', '30', '31', '31', '30', '31']\n",
      "['31', '28', '31', '30', '31', '30', '31', '31', '30', '31', '30']\n",
      "['31', '28', '31', '30', '31', '30', '31', '31', '30', '31', '30', '31']\n"
     ]
    }
   ],
   "source": [
    "month_day = [['January','31'],['February','28'], ['March','31'],['April','30'],['May','31'],['June','30'],\n",
    "         ['July','31'],['August','31'],['September','30'],['October','31'],['November','30'],['December','31']]\n",
    "len_list=len(month_day)\n",
    "list_months=[]\n",
    "list_days=[]\n",
    "\n",
    "for i in range((len_list)):\n",
    "    list_months += [month_day[i][0]]\n",
    "    print (list_months)\n",
    "\n",
    "for i in range((len_list)):\n",
    "    list_days += [month_day[i][1]]\n",
    "    print (list_days)\n",
    "\n"
   ]
  },
  {
   "cell_type": "code",
   "execution_count": 7,
   "metadata": {
    "scrolled": true
   },
   "outputs": [
    {
     "name": "stdout",
     "output_type": "stream",
     "text": [
      "['31', '28', '31', '30', '31', '30', '31', '31', '30', '31', '30', '31']\n",
      "['January', 'February', 'March', 'April', 'May', 'June', 'July', 'August', 'September', 'October', 'November', 'December']\n"
     ]
    }
   ],
   "source": [
    "month_days = [month_day[0][1],month_day[1][1],month_day[2][1],month_day[3][1],month_day[4][1],month_day[5][1],month_day[6][1],month_day[7][1],month_day[8][1],month_day[9][1],month_day[10][1],month_day[11][1]]\n",
    "month_names = [month_day[0][0],month_day[1][0],month_day[2][0],month_day[3][0],month_day[4][0],month_day[5][0],month_day[6][0],month_day[7][0],month_day[8][0],month_day[9][0],month_day[10][0],month_day[11][0]]\n",
    "print(month_days)\n",
    "print(month_names)"
   ]
  },
  {
   "cell_type": "markdown",
   "metadata": {},
   "source": [
    "#### // alternatif yöntem"
   ]
  },
  {
   "cell_type": "code",
   "execution_count": 8,
   "metadata": {
    "scrolled": true
   },
   "outputs": [
    {
     "name": "stdout",
     "output_type": "stream",
     "text": [
      "['January', 'February', 'December']\n",
      "['March', 'April', 'May']\n",
      "['June', 'July', 'August']\n",
      "['September', 'October', 'November']\n"
     ]
    }
   ],
   "source": [
    "winter = [list_months[0],list_months[1],list_months[11]]\n",
    "spring = [list_months[2],list_months[3],list_months[4]]\n",
    "summer = [list_months[5],list_months[6],list_months[7]]\n",
    "autumn = [list_months[8],list_months[9],list_months[10]]\n",
    "print(winter)\n",
    "print(spring)\n",
    "print(summer)\n",
    "print(autumn)\n"
   ]
  },
  {
   "cell_type": "code",
   "execution_count": 9,
   "metadata": {
    "scrolled": true
   },
   "outputs": [
    {
     "name": "stdout",
     "output_type": "stream",
     "text": [
      "3\n",
      "[5, 6, 7]\n",
      "92\n"
     ]
    }
   ],
   "source": [
    "summer_index= [list_months.index(summer[0]),list_months.index(summer[1]),list_months.index(summer[2])]\n",
    "len_summer_index=len(summer_index)\n",
    "print(len_summer_index)\n",
    "print(summer_index)\n",
    "\n",
    "summerdaysum = int(list_days[summer_index[0]])+int(list_days[summer_index[1]])+int(list_days[summer_index[2]])\n",
    "print (summerdaysum)\n",
    "\n"
   ]
  }
 ],
 "metadata": {
  "kernelspec": {
   "display_name": "Python 3",
   "language": "python",
   "name": "python3"
  },
  "language_info": {
   "codemirror_mode": {
    "name": "ipython",
    "version": 3
   },
   "file_extension": ".py",
   "mimetype": "text/x-python",
   "name": "python",
   "nbconvert_exporter": "python",
   "pygments_lexer": "ipython3",
   "version": "3.7.4"
  }
 },
 "nbformat": 4,
 "nbformat_minor": 2
}
