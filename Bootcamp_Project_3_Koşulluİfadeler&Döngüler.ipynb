{
 "cells": [
  {
   "cell_type": "markdown",
   "metadata": {},
   "source": [
    "## Bootcamp | Project 3 | Koşullu İfadeler & Döngüler"
   ]
  },
  {
   "cell_type": "code",
   "execution_count": 1,
   "metadata": {},
   "outputs": [],
   "source": [
    "import numpy as np\n",
    "import pandas as pd\n",
    "import array as arr\n",
    "import matplotlib.pyplot as plt"
   ]
  },
  {
   "cell_type": "code",
   "execution_count": 2,
   "metadata": {
    "scrolled": true
   },
   "outputs": [
    {
     "name": "stdout",
     "output_type": "stream",
     "text": [
      "Please enter temperature :seksendört\n",
      "Please enter digits\n",
      "Please enter temperature :84\n",
      "Great!\n"
     ]
    }
   ],
   "source": [
    "temperature=input('Please enter temperature :')\n",
    "while not temperature.isdigit():\n",
    "    print('Please enter digits')\n",
    "    temperature=input('Please enter temperature :')\n",
    "print('Great!')\n"
   ]
  },
  {
   "cell_type": "code",
   "execution_count": 3,
   "metadata": {},
   "outputs": [
    {
     "name": "stdout",
     "output_type": "stream",
     "text": [
      "Please enter F for Fahrenhait/C for Celcius :M\n",
      "Sorry! Calculations are only available for Fahrenhait to Celcius or Celcius to Fahrenhait.\n",
      "To continue, please enter F for Fahrenhait/C for Celcius :C\n",
      "Lets calculate..\n"
     ]
    }
   ],
   "source": [
    "temptype=input('Please enter F for Fahrenhait/C for Celcius :')\n",
    "while not temptype=='C'or temptype=='F':\n",
    "    print('Sorry! Calculations are only available for Fahrenhait to Celcius or Celcius to Fahrenhait.')\n",
    "    temptype=input('To continue, please enter F for Fahrenhait/C for Celcius :')\n",
    "print('Lets calculate..')"
   ]
  },
  {
   "cell_type": "code",
   "execution_count": 4,
   "metadata": {
    "scrolled": true
   },
   "outputs": [
    {
     "name": "stdout",
     "output_type": "stream",
     "text": [
      "F= 183.2\n"
     ]
    }
   ],
   "source": [
    "if temptype=='F':\n",
    "    celcius= (5/9) * (int(temperature)-32)\n",
    "    print('C= '+ str(celcius))\n",
    "elif temptype=='C':\n",
    "    fahrenhait=(int(temperature)/(5/9))+32\n",
    "    print('F= '+ str(fahrenhait))\n",
    "else :\n",
    "    print('Ooops!')"
   ]
  },
  {
   "cell_type": "code",
   "execution_count": 5,
   "metadata": {
    "scrolled": true
   },
   "outputs": [
    {
     "name": "stdout",
     "output_type": "stream",
     "text": [
      "Please enter number:8\n",
      "8x1=8\n",
      "8x2=16\n",
      "8x3=24\n",
      "8x4=32\n",
      "8x5=40\n",
      "8x6=48\n",
      "8x7=56\n",
      "8x8=64\n",
      "8x9=72\n",
      "8x10=80\n"
     ]
    }
   ],
   "source": [
    "number=input('Please enter number:')\n",
    "for i in range(1,11):\n",
    "    multiplier=int(number)*i\n",
    "    print(str(number) + 'x' + str(i) +'='+ str(multiplier))"
   ]
  },
  {
   "cell_type": "code",
   "execution_count": 6,
   "metadata": {},
   "outputs": [
    {
     "name": "stdout",
     "output_type": "stream",
     "text": [
      "[1, 8, 9, 64, 25, 216, 49, 512, 81, 1000, 121, 1728, 169, 2744, 225, 4096, 289, 5832, 361, 8000]\n"
     ]
    }
   ],
   "source": [
    "listcomp = [x**3 if x%2==0 else x**2 for x in range(1,21) ]\n",
    "print(listcomp)"
   ]
  },
  {
   "cell_type": "code",
   "execution_count": 7,
   "metadata": {},
   "outputs": [
    {
     "name": "stdout",
     "output_type": "stream",
     "text": [
      "Please enter word to convert:perspective\n",
      "evitcepsrep"
     ]
    }
   ],
   "source": [
    "word= input('Please enter word to convert:')\n",
    "for x in range(len(word)): \n",
    "    wconvert=word[-x-1]\n",
    "    print(wconvert,end='')"
   ]
  },
  {
   "cell_type": "code",
   "execution_count": 8,
   "metadata": {},
   "outputs": [
    {
     "name": "stdout",
     "output_type": "stream",
     "text": [
      "[1, 1, 2, 3, 5, 8, 13, 21, 34]\n"
     ]
    }
   ],
   "source": [
    "fibArray = [1,1,2] \n",
    "while fibArray[-1]+fibArray[-2]<=50:   \n",
    "    fibArray.append(fibArray[-1] + fibArray[-2])  \n",
    "print(fibArray)"
   ]
  }
 ],
 "metadata": {
  "kernelspec": {
   "display_name": "Python 3",
   "language": "python",
   "name": "python3"
  },
  "language_info": {
   "codemirror_mode": {
    "name": "ipython",
    "version": 3
   },
   "file_extension": ".py",
   "mimetype": "text/x-python",
   "name": "python",
   "nbconvert_exporter": "python",
   "pygments_lexer": "ipython3",
   "version": "3.7.4"
  }
 },
 "nbformat": 4,
 "nbformat_minor": 2
}
