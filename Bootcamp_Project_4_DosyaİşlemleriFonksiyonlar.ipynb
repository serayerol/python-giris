{
 "cells": [
  {
   "cell_type": "markdown",
   "metadata": {},
   "source": [
    "## Bootcamp | Project 4 | Dosya İşlemleri,Fonksiyonlar,Hatalar ve Modüller"
   ]
  },
  {
   "cell_type": "code",
   "execution_count": 1,
   "metadata": {},
   "outputs": [],
   "source": [
    "import numpy as np\n",
    "import pandas as pd\n",
    "import array as arr\n",
    "import matplotlib.pyplot as plt"
   ]
  },
  {
   "cell_type": "code",
   "execution_count": 2,
   "metadata": {
    "scrolled": false
   },
   "outputs": [
    {
     "name": "stdout",
     "output_type": "stream",
     "text": [
      "['Korkma, sönmez bu şafaklarda yüzen al sancak;\\n', 'Sönmeden yurdumun üstünde tüten en son ocak.\\n', 'O benim milletimin yıldızıdır, parlayacak;\\n', 'O benimdir, o benim milletimindir ancak.\\n', 'Çatma, kurban olayım, çehreni ey nazlı hilal!\\n', 'Kahraman ırkıma bir gül! Ne bu şiddet, bu celal?\\n', 'Sana olmaz dökülen kanlarımız sonra helal...\\n', \"Hakkıdır, hakk'a tapan, milletimin istiklal!\\n\", 'Ben ezelden beridir hür yaşadım, hür yaşarım.\\n', 'Hangi çılgın bana zincir vuracakmış? Şaşarım!\\n', 'Kükremiş sel gibiyim, bendimi çiğner, aşarım.\\n', 'Yırtarım dağları, enginlere sığmam, taşarım.\\n', 'Garbın afakını sarmışsa çelik zırhlı duvar,\\n', 'Benim iman dolu göğsüm gibi serhaddim var.\\n', 'Ulusun, korkma! Nasıl böyle bir imanı boğar,\\n', \"'Medeniyet!' dediğin tek dişi kalmış canavar?\\n\", 'Arkadaş! Yurduma alçakları uğratma, sakın.\\n', 'Siper et gövdeni, dursun bu hayasızca akın.\\n', \"Doğacaktır sana va'dettigi günler hakk'ın...\\n\", 'Kim bilir, belki yarın, belki yarından da yakın.\\n', \"Bastığın yerleri 'toprak!' diyerek geçme, tanı:\\n\", 'Düşün altında binlerce kefensiz yatanı.\\n', 'Sen şehit oğlusun, incitme, yazıktır, atanı:\\n', 'Verme, dünyaları alsan da, bu cennet vatanı.\\n', 'Kim bu cennet vatanın uğruna olmaz ki feda?\\n', 'Şuheda fışkıracak toprağı sıksan, şuheda!\\n', 'Canı, cananı, bütün varımı alsın da hüda,\\n', 'Etmesin tek vatanımdan beni dünyada cüda.\\n', 'Ruhumun senden, ilahi, şudur ancak emeli:\\n', 'Değmesin mabedimin göğsüne namahrem eli.\\n', 'Bu ezanlar-ki şahadetleri dinin temeli,\\n', 'Ebedi yurdumun üstünde benim inlemeli.\\n', 'O zaman vecd ile bin secde eder -varsa- taşım,\\n', 'Her cerihamdan, ilahi, boşanıp kanlı yaşım,\\n', \"Fışkırır ruh-i mücerred gibi yerden na'şım;\\n\", 'O zaman yükselerek arsa değer belki başım.\\n', 'Dalgalan sen de şafaklar gibi ey şanlı hilal!\\n', 'Olsun artık dökülen kanlarımın hepsi helal.\\n', 'Ebediyen sana yok, ırkıma yok izmihlal:\\n', 'Hakkıdır, hür yaşamış, bayrağımın hürriyet;\\n', \"Hakkıdır, hakk'a tapan, milletimin istiklal!\"]\n",
      "41\n"
     ]
    }
   ],
   "source": [
    "with open(r'C:\\Users\\seray.erol\\Desktop\\Python Projects\\datasets\\bootcamp_poem.txt') as f :\n",
    "    lines=f.readlines()\n",
    "print(lines)\n",
    "print(len(lines))"
   ]
  },
  {
   "cell_type": "code",
   "execution_count": 3,
   "metadata": {},
   "outputs": [
    {
     "name": "stdout",
     "output_type": "stream",
     "text": [
      "Korkma, sönmez bu şafaklarda yüzen al sancak;\n",
      "\n",
      "Sönmeden yurdumun üstünde tüten en son ocak.\n",
      "\n",
      "O benim milletimin yıldızıdır, parlayacak;\n",
      "\n",
      "O benimdir, o benim milletimindir ancak.\n",
      "\n",
      "\n",
      "\n",
      "Sana olmaz dökülen kanlarımız sonra helal...\n",
      "\n",
      "Hakkıdır, hakk'a tapan, milletimin istiklal!\n",
      "\n",
      "Ben ezelden beridir hür yaşadım, hür yaşarım.\n",
      "\n",
      "Hangi çılgın bana zincir vuracakmış? Şaşarım!\n",
      "\n",
      "\n",
      "\n",
      "Garbın afakını sarmışsa çelik zırhlı duvar,\n",
      "\n",
      "Benim iman dolu göğsüm gibi serhaddim var.\n",
      "\n",
      "Ulusun, korkma! Nasıl böyle bir imanı boğar,\n",
      "\n",
      "'Medeniyet!' dediğin tek dişi kalmış canavar?\n",
      "\n",
      "\n",
      "\n",
      "Doğacaktır sana va'dettigi günler hakk'ın...\n",
      "\n",
      "Kim bilir, belki yarın, belki yarından da yakın.\n",
      "\n",
      "Bastığın yerleri 'toprak!' diyerek geçme, tanı:\n",
      "\n",
      "Düşün altında binlerce kefensiz yatanı.\n",
      "\n",
      "\n",
      "\n",
      "Kim bu cennet vatanın uğruna olmaz ki feda?\n",
      "\n",
      "Şuheda fışkıracak toprağı sıksan, şuheda!\n",
      "\n",
      "Canı, cananı, bütün varımı alsın da hüda,\n",
      "\n",
      "Etmesin tek vatanımdan beni dünyada cüda.\n",
      "\n",
      "\n",
      "\n",
      "Bu ezanlar-ki şahadetleri dinin temeli,\n",
      "\n",
      "Ebedi yurdumun üstünde benim inlemeli.\n",
      "\n",
      "O zaman vecd ile bin secde eder -varsa- taşım,\n",
      "\n",
      "Her cerihamdan, ilahi, boşanıp kanlı yaşım,\n",
      "\n",
      "\n",
      "\n",
      "Dalgalan sen de şafaklar gibi ey şanlı hilal!\n",
      "\n",
      "Olsun artık dökülen kanlarımın hepsi helal.\n",
      "\n",
      "Ebediyen sana yok, ırkıma yok izmihlal:\n",
      "\n",
      "Hakkıdır, hür yaşamış, bayrağımın hürriyet;\n",
      "\n",
      "\n",
      "\n"
     ]
    }
   ],
   "source": [
    "f = open(\"bootcamp_poem_cor.txt\", 'w')\n",
    "\n",
    "for i in range(0, len(lines),6):\n",
    "    for j in range(4):\n",
    "        f.write(lines[i+j])\n",
    "    f.write('\\n')\n",
    "f.close()\n",
    "\n",
    "with open(\"bootcamp_poem_cor.txt\", \"r\") as f:\n",
    "    nlines = f.readlines()\n",
    "\n",
    "for nline in nlines: \n",
    "    print(nline)  #bazı satırları atlıyor."
   ]
  },
  {
   "cell_type": "code",
   "execution_count": 4,
   "metadata": {
    "scrolled": true
   },
   "outputs": [
    {
     "name": "stdout",
     "output_type": "stream",
     "text": [
      "K\n",
      "S\n",
      "O\n",
      "O\n",
      "\n",
      "\n",
      "S\n",
      "H\n",
      "B\n",
      "H\n",
      "\n",
      "\n",
      "G\n",
      "B\n",
      "U\n",
      "'\n",
      "\n",
      "\n",
      "D\n",
      "K\n",
      "B\n",
      "D\n",
      "\n",
      "\n",
      "K\n",
      "Ş\n",
      "C\n",
      "E\n",
      "\n",
      "\n",
      "B\n",
      "E\n",
      "O\n",
      "H\n",
      "\n",
      "\n",
      "D\n",
      "O\n",
      "E\n",
      "H\n",
      "\n",
      "\n",
      "o\n",
      "ö\n",
      " \n",
      " \n"
     ]
    },
    {
     "ename": "IndexError",
     "evalue": "string index out of range",
     "output_type": "error",
     "traceback": [
      "\u001b[1;31m---------------------------------------------------------------------------\u001b[0m",
      "\u001b[1;31mIndexError\u001b[0m                                Traceback (most recent call last)",
      "\u001b[1;32m<ipython-input-4-f1a25d498a12>\u001b[0m in \u001b[0;36m<module>\u001b[1;34m\u001b[0m\n\u001b[0;32m      3\u001b[0m \u001b[1;32mfor\u001b[0m \u001b[0mi\u001b[0m \u001b[1;32min\u001b[0m \u001b[0mrange\u001b[0m\u001b[1;33m(\u001b[0m\u001b[1;36m0\u001b[0m\u001b[1;33m,\u001b[0m \u001b[0mlen\u001b[0m\u001b[1;33m(\u001b[0m\u001b[0mnlines\u001b[0m\u001b[1;33m)\u001b[0m\u001b[1;33m)\u001b[0m\u001b[1;33m:\u001b[0m\u001b[1;33m\u001b[0m\u001b[1;33m\u001b[0m\u001b[0m\n\u001b[0;32m      4\u001b[0m     \u001b[1;32mfor\u001b[0m \u001b[0mwords\u001b[0m \u001b[1;32min\u001b[0m \u001b[0mnlines\u001b[0m\u001b[1;33m:\u001b[0m\u001b[1;33m\u001b[0m\u001b[1;33m\u001b[0m\u001b[0m\n\u001b[1;32m----> 5\u001b[1;33m         \u001b[0mresult\u001b[0m\u001b[1;33m=\u001b[0m\u001b[0mwords\u001b[0m\u001b[1;33m[\u001b[0m\u001b[0mi\u001b[0m\u001b[1;33m]\u001b[0m\u001b[1;33m\u001b[0m\u001b[1;33m\u001b[0m\u001b[0m\n\u001b[0m\u001b[0;32m      6\u001b[0m         \u001b[0mprint\u001b[0m\u001b[1;33m(\u001b[0m\u001b[0mresult\u001b[0m\u001b[1;33m)\u001b[0m\u001b[1;33m\u001b[0m\u001b[1;33m\u001b[0m\u001b[0m\n",
      "\u001b[1;31mIndexError\u001b[0m: string index out of range"
     ]
    }
   ],
   "source": [
    "f = open(\"bootcamp_poem_1st.txt\", 'w')\n",
    "\n",
    "for i in range(0, len(nlines)):\n",
    "    for words in nlines: ##Kelimeleri neden alamadığımı anlayamadım.\n",
    "        result=words[i]\n",
    "        print(result)\n"
   ]
  },
  {
   "cell_type": "code",
   "execution_count": 7,
   "metadata": {},
   "outputs": [
    {
     "name": "stdout",
     "output_type": "stream",
     "text": [
      "Please enter a number:17\n",
      "17 is a prime number.\n"
     ]
    }
   ],
   "source": [
    "number=int(input(\"Please enter a number:\"))\n",
    "def prime(number):\n",
    "    if number>1:\n",
    "        for i in range (2,number-1):\n",
    "            if number%i==0:\n",
    "                result='{} is not a prime number.'.format(number)\n",
    "                return result\n",
    "            else:\n",
    "                result='{} is a prime number.'.format(number)\n",
    "                return result\n",
    "    else:\n",
    "        result='{} not a valid number.'.format(number)\n",
    "        return result\n",
    "\n",
    "print(prime(number))\n",
    "            \n",
    "                "
   ]
  },
  {
   "cell_type": "code",
   "execution_count": 8,
   "metadata": {},
   "outputs": [
    {
     "ename": "SyntaxError",
     "evalue": "invalid syntax (<ipython-input-8-1f76d5b8ddd8>, line 6)",
     "output_type": "error",
     "traceback": [
      "\u001b[1;36m  File \u001b[1;32m\"<ipython-input-8-1f76d5b8ddd8>\"\u001b[1;36m, line \u001b[1;32m6\u001b[0m\n\u001b[1;33m    if list[i]=list[i+1]:\u001b[0m\n\u001b[1;37m              ^\u001b[0m\n\u001b[1;31mSyntaxError\u001b[0m\u001b[1;31m:\u001b[0m invalid syntax\n"
     ]
    }
   ],
   "source": [
    "list=[1,1,1,2,2,3,4,4,4,5,5,6,7,8,8,8,9] ## mantıken yanlış yapmadığımı düşünüyorum.\n",
    "def ulist(list):\n",
    "    new_list=list\n",
    "    i=len(list)\n",
    "    for i in range (0,len(list)):\n",
    "        if list[i]=list[i+1]:\n",
    "            result=new_list.remove(i+1)\n",
    "        else:\n",
    "            result=ulist\n",
    "    return(result)\n",
    "print(ulist(list))\n"
   ]
  },
  {
   "cell_type": "code",
   "execution_count": 5,
   "metadata": {
    "scrolled": true
   },
   "outputs": [
    {
     "name": "stdout",
     "output_type": "stream",
     "text": [
      "2020-04-17\n",
      "Please enter your date of birth Y/M/D : 1994/03/03\n",
      "26 years old\n"
     ]
    }
   ],
   "source": [
    "from datetime import date \n",
    "x = date.today()\n",
    "print(x)\n",
    "\n",
    "ageinput=(input(\"Please enter your date of birth Y/M/D : \"))\n",
    "for i in range(0,2):\n",
    "    age_year=int(ageinput.split('/')[0])\n",
    "    age_month=int(ageinput.split('/')[1])\n",
    "    age_day=int(ageinput.split('/')[2])\n",
    "\n",
    "def age(birthDate): \n",
    "    today = date.today() \n",
    "    age_calc = today.year - birthDate.year - ((today.month, today.day) < (birthDate.month, birthDate.day)) \n",
    "    return age_calc \n",
    "      \n",
    "print(age(date(age_year, age_month, age_day)), \"years old\")"
   ]
  }
 ],
 "metadata": {
  "kernelspec": {
   "display_name": "Python 3",
   "language": "python",
   "name": "python3"
  },
  "language_info": {
   "codemirror_mode": {
    "name": "ipython",
    "version": 3
   },
   "file_extension": ".py",
   "mimetype": "text/x-python",
   "name": "python",
   "nbconvert_exporter": "python",
   "pygments_lexer": "ipython3",
   "version": "3.7.4"
  }
 },
 "nbformat": 4,
 "nbformat_minor": 2
}
