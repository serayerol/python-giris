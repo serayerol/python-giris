{
 "cells": [
  {
   "cell_type": "markdown",
   "metadata": {},
   "source": [
    "## Bootcamp | Project 2.8 | Matplotlib"
   ]
  },
  {
   "cell_type": "code",
   "execution_count": 1,
   "metadata": {},
   "outputs": [],
   "source": [
    "import numpy as np\n",
    "import pandas as pd\n",
    "import array as arr\n",
    "import matplotlib.pyplot as plt\n",
    "import warnings\n",
    "warnings.filterwarnings('ignore')"
   ]
  },
  {
   "cell_type": "code",
   "execution_count": 2,
   "metadata": {},
   "outputs": [],
   "source": [
    "df=pd.read_csv('Shopping_CustomerData.csv', index_col=0)"
   ]
  },
  {
   "cell_type": "code",
   "execution_count": 3,
   "metadata": {},
   "outputs": [
    {
     "name": "stdout",
     "output_type": "stream",
     "text": [
      "<class 'pandas.core.frame.DataFrame'>\n",
      "Int64Index: 200 entries, 1001 to 1200\n",
      "Data columns (total 7 columns):\n",
      "CustomerGender    200 non-null object\n",
      "CustomerAge       200 non-null int64\n",
      "CustomerCity      200 non-null object\n",
      "AnnualIncome      200 non-null float64\n",
      "CreditScore       200 non-null int64\n",
      "SpendingScore     200 non-null int64\n",
      "CustomerCityID    200 non-null int64\n",
      "dtypes: float64(1), int64(4), object(2)\n",
      "memory usage: 12.5+ KB\n"
     ]
    }
   ],
   "source": [
    "df.info()"
   ]
  },
  {
   "cell_type": "code",
   "execution_count": 17,
   "metadata": {
    "scrolled": false
   },
   "outputs": [
    {
     "data": {
      "text/html": [
       "<div>\n",
       "<style scoped>\n",
       "    .dataframe tbody tr th:only-of-type {\n",
       "        vertical-align: middle;\n",
       "    }\n",
       "\n",
       "    .dataframe tbody tr th {\n",
       "        vertical-align: top;\n",
       "    }\n",
       "\n",
       "    .dataframe thead th {\n",
       "        text-align: right;\n",
       "    }\n",
       "</style>\n",
       "<table border=\"1\" class=\"dataframe\">\n",
       "  <thead>\n",
       "    <tr style=\"text-align: right;\">\n",
       "      <th></th>\n",
       "      <th>CustomerGender</th>\n",
       "      <th>CustomerAge</th>\n",
       "      <th>CustomerCity</th>\n",
       "      <th>AnnualIncome</th>\n",
       "      <th>CreditScore</th>\n",
       "      <th>SpendingScore</th>\n",
       "      <th>CustomerCityID</th>\n",
       "    </tr>\n",
       "    <tr>\n",
       "      <th>CustomerID</th>\n",
       "      <th></th>\n",
       "      <th></th>\n",
       "      <th></th>\n",
       "      <th></th>\n",
       "      <th></th>\n",
       "      <th></th>\n",
       "      <th></th>\n",
       "    </tr>\n",
       "  </thead>\n",
       "  <tbody>\n",
       "    <tr>\n",
       "      <td>1001</td>\n",
       "      <td>Male</td>\n",
       "      <td>49</td>\n",
       "      <td>Bengaluru</td>\n",
       "      <td>527547.58850</td>\n",
       "      <td>653</td>\n",
       "      <td>78</td>\n",
       "      <td>1</td>\n",
       "    </tr>\n",
       "    <tr>\n",
       "      <td>1002</td>\n",
       "      <td>Male</td>\n",
       "      <td>59</td>\n",
       "      <td>Bengaluru</td>\n",
       "      <td>207143.19760</td>\n",
       "      <td>630</td>\n",
       "      <td>63</td>\n",
       "      <td>1</td>\n",
       "    </tr>\n",
       "    <tr>\n",
       "      <td>1003</td>\n",
       "      <td>Female</td>\n",
       "      <td>54</td>\n",
       "      <td>Delhi</td>\n",
       "      <td>164423.84570</td>\n",
       "      <td>555</td>\n",
       "      <td>69</td>\n",
       "      <td>4</td>\n",
       "    </tr>\n",
       "    <tr>\n",
       "      <td>1004</td>\n",
       "      <td>Female</td>\n",
       "      <td>42</td>\n",
       "      <td>Bengaluru</td>\n",
       "      <td>56220.36443</td>\n",
       "      <td>699</td>\n",
       "      <td>30</td>\n",
       "      <td>1</td>\n",
       "    </tr>\n",
       "    <tr>\n",
       "      <td>1005</td>\n",
       "      <td>Female</td>\n",
       "      <td>30</td>\n",
       "      <td>Bengaluru</td>\n",
       "      <td>256194.36190</td>\n",
       "      <td>793</td>\n",
       "      <td>6</td>\n",
       "      <td>1</td>\n",
       "    </tr>\n",
       "    <tr>\n",
       "      <td>1006</td>\n",
       "      <td>Female</td>\n",
       "      <td>38</td>\n",
       "      <td>Chennai</td>\n",
       "      <td>475324.89030</td>\n",
       "      <td>635</td>\n",
       "      <td>97</td>\n",
       "      <td>2</td>\n",
       "    </tr>\n",
       "    <tr>\n",
       "      <td>1007</td>\n",
       "      <td>Female</td>\n",
       "      <td>45</td>\n",
       "      <td>Chennai</td>\n",
       "      <td>186352.34820</td>\n",
       "      <td>881</td>\n",
       "      <td>2</td>\n",
       "      <td>2</td>\n",
       "    </tr>\n",
       "    <tr>\n",
       "      <td>1008</td>\n",
       "      <td>Female</td>\n",
       "      <td>23</td>\n",
       "      <td>Mumbai</td>\n",
       "      <td>414233.15690</td>\n",
       "      <td>852</td>\n",
       "      <td>77</td>\n",
       "      <td>5</td>\n",
       "    </tr>\n",
       "    <tr>\n",
       "      <td>1009</td>\n",
       "      <td>Male</td>\n",
       "      <td>59</td>\n",
       "      <td>Chennai</td>\n",
       "      <td>97263.51748</td>\n",
       "      <td>708</td>\n",
       "      <td>22</td>\n",
       "      <td>2</td>\n",
       "    </tr>\n",
       "    <tr>\n",
       "      <td>1010</td>\n",
       "      <td>Female</td>\n",
       "      <td>48</td>\n",
       "      <td>Kolkata</td>\n",
       "      <td>179271.23320</td>\n",
       "      <td>669</td>\n",
       "      <td>97</td>\n",
       "      <td>3</td>\n",
       "    </tr>\n",
       "  </tbody>\n",
       "</table>\n",
       "</div>"
      ],
      "text/plain": [
       "           CustomerGender  CustomerAge CustomerCity  AnnualIncome  \\\n",
       "CustomerID                                                          \n",
       "1001                 Male           49    Bengaluru  527547.58850   \n",
       "1002                 Male           59    Bengaluru  207143.19760   \n",
       "1003               Female           54        Delhi  164423.84570   \n",
       "1004               Female           42    Bengaluru   56220.36443   \n",
       "1005               Female           30    Bengaluru  256194.36190   \n",
       "1006               Female           38      Chennai  475324.89030   \n",
       "1007               Female           45      Chennai  186352.34820   \n",
       "1008               Female           23       Mumbai  414233.15690   \n",
       "1009                 Male           59      Chennai   97263.51748   \n",
       "1010               Female           48      Kolkata  179271.23320   \n",
       "\n",
       "            CreditScore  SpendingScore  CustomerCityID  \n",
       "CustomerID                                              \n",
       "1001                653             78               1  \n",
       "1002                630             63               1  \n",
       "1003                555             69               4  \n",
       "1004                699             30               1  \n",
       "1005                793              6               1  \n",
       "1006                635             97               2  \n",
       "1007                881              2               2  \n",
       "1008                852             77               5  \n",
       "1009                708             22               2  \n",
       "1010                669             97               3  "
      ]
     },
     "execution_count": 17,
     "metadata": {},
     "output_type": "execute_result"
    }
   ],
   "source": [
    "df.head(10)"
   ]
  },
  {
   "cell_type": "code",
   "execution_count": 18,
   "metadata": {
    "scrolled": false
   },
   "outputs": [
    {
     "data": {
      "text/html": [
       "<div>\n",
       "<style scoped>\n",
       "    .dataframe tbody tr th:only-of-type {\n",
       "        vertical-align: middle;\n",
       "    }\n",
       "\n",
       "    .dataframe tbody tr th {\n",
       "        vertical-align: top;\n",
       "    }\n",
       "\n",
       "    .dataframe thead th {\n",
       "        text-align: right;\n",
       "    }\n",
       "</style>\n",
       "<table border=\"1\" class=\"dataframe\">\n",
       "  <thead>\n",
       "    <tr style=\"text-align: right;\">\n",
       "      <th></th>\n",
       "      <th>CustomerCity</th>\n",
       "      <th>AnnualIncome</th>\n",
       "      <th>SpendingScore</th>\n",
       "    </tr>\n",
       "    <tr>\n",
       "      <th>CustomerID</th>\n",
       "      <th></th>\n",
       "      <th></th>\n",
       "      <th></th>\n",
       "    </tr>\n",
       "  </thead>\n",
       "  <tbody>\n",
       "    <tr>\n",
       "      <td>1001</td>\n",
       "      <td>Bengaluru</td>\n",
       "      <td>527547.58850</td>\n",
       "      <td>78</td>\n",
       "    </tr>\n",
       "    <tr>\n",
       "      <td>1002</td>\n",
       "      <td>Bengaluru</td>\n",
       "      <td>207143.19760</td>\n",
       "      <td>63</td>\n",
       "    </tr>\n",
       "    <tr>\n",
       "      <td>1003</td>\n",
       "      <td>Delhi</td>\n",
       "      <td>164423.84570</td>\n",
       "      <td>69</td>\n",
       "    </tr>\n",
       "    <tr>\n",
       "      <td>1004</td>\n",
       "      <td>Bengaluru</td>\n",
       "      <td>56220.36443</td>\n",
       "      <td>30</td>\n",
       "    </tr>\n",
       "    <tr>\n",
       "      <td>1005</td>\n",
       "      <td>Bengaluru</td>\n",
       "      <td>256194.36190</td>\n",
       "      <td>6</td>\n",
       "    </tr>\n",
       "    <tr>\n",
       "      <td>...</td>\n",
       "      <td>...</td>\n",
       "      <td>...</td>\n",
       "      <td>...</td>\n",
       "    </tr>\n",
       "    <tr>\n",
       "      <td>1196</td>\n",
       "      <td>Delhi</td>\n",
       "      <td>317466.42070</td>\n",
       "      <td>52</td>\n",
       "    </tr>\n",
       "    <tr>\n",
       "      <td>1197</td>\n",
       "      <td>Bengaluru</td>\n",
       "      <td>323305.50020</td>\n",
       "      <td>58</td>\n",
       "    </tr>\n",
       "    <tr>\n",
       "      <td>1198</td>\n",
       "      <td>Chennai</td>\n",
       "      <td>109058.54430</td>\n",
       "      <td>36</td>\n",
       "    </tr>\n",
       "    <tr>\n",
       "      <td>1199</td>\n",
       "      <td>Delhi</td>\n",
       "      <td>160116.89300</td>\n",
       "      <td>24</td>\n",
       "    </tr>\n",
       "    <tr>\n",
       "      <td>1200</td>\n",
       "      <td>Chennai</td>\n",
       "      <td>280081.39010</td>\n",
       "      <td>31</td>\n",
       "    </tr>\n",
       "  </tbody>\n",
       "</table>\n",
       "<p>200 rows × 3 columns</p>\n",
       "</div>"
      ],
      "text/plain": [
       "           CustomerCity  AnnualIncome  SpendingScore\n",
       "CustomerID                                          \n",
       "1001          Bengaluru  527547.58850             78\n",
       "1002          Bengaluru  207143.19760             63\n",
       "1003              Delhi  164423.84570             69\n",
       "1004          Bengaluru   56220.36443             30\n",
       "1005          Bengaluru  256194.36190              6\n",
       "...                 ...           ...            ...\n",
       "1196              Delhi  317466.42070             52\n",
       "1197          Bengaluru  323305.50020             58\n",
       "1198            Chennai  109058.54430             36\n",
       "1199              Delhi  160116.89300             24\n",
       "1200            Chennai  280081.39010             31\n",
       "\n",
       "[200 rows x 3 columns]"
      ]
     },
     "execution_count": 18,
     "metadata": {},
     "output_type": "execute_result"
    }
   ],
   "source": [
    "df[['CustomerCity','AnnualIncome','SpendingScore']]"
   ]
  },
  {
   "cell_type": "code",
   "execution_count": 19,
   "metadata": {
    "scrolled": true
   },
   "outputs": [
    {
     "data": {
      "text/plain": [
       "CustomerCity\n",
       "Bengaluru    49.180000\n",
       "Chennai      46.022222\n",
       "Delhi        47.135135\n",
       "Kolkata      60.413793\n",
       "Mumbai       54.230769\n",
       "Name: SpendingScore, dtype: float64"
      ]
     },
     "execution_count": 19,
     "metadata": {},
     "output_type": "execute_result"
    }
   ],
   "source": [
    "df.groupby('CustomerCity').mean()['SpendingScore']"
   ]
  },
  {
   "cell_type": "code",
   "execution_count": 20,
   "metadata": {
    "scrolled": true
   },
   "outputs": [
    {
     "data": {
      "text/plain": [
       "291483.486127"
      ]
     },
     "execution_count": 20,
     "metadata": {},
     "output_type": "execute_result"
    }
   ],
   "source": [
    "df[df['CustomerAge']>50].mean()['AnnualIncome']"
   ]
  },
  {
   "cell_type": "code",
   "execution_count": 23,
   "metadata": {
    "scrolled": true
   },
   "outputs": [
    {
     "data": {
      "text/plain": [
       "261862.79349356753"
      ]
     },
     "execution_count": 23,
     "metadata": {},
     "output_type": "execute_result"
    }
   ],
   "source": [
    "df[df['CustomerCity']=='Delhi'].mean()['AnnualIncome']"
   ]
  },
  {
   "cell_type": "code",
   "execution_count": 30,
   "metadata": {
    "scrolled": false
   },
   "outputs": [
    {
     "data": {
      "text/plain": [
       "CustomerID\n",
       "1001    1\n",
       "1002    1\n",
       "1003    4\n",
       "1004    1\n",
       "1005    1\n",
       "       ..\n",
       "1196    4\n",
       "1197    1\n",
       "1198    2\n",
       "1199    4\n",
       "1200    2\n",
       "Name: CustomerCityID, Length: 200, dtype: int64"
      ]
     },
     "execution_count": 30,
     "metadata": {},
     "output_type": "execute_result"
    }
   ],
   "source": [
    "df['CustomerCityID']"
   ]
  },
  {
   "cell_type": "code",
   "execution_count": 42,
   "metadata": {
    "scrolled": false
   },
   "outputs": [
    {
     "data": {
      "text/plain": [
       "CustomerGender\n",
       "Female    AxesSubplot(0.125,0.125;0.775x0.755)\n",
       "Male      AxesSubplot(0.125,0.125;0.775x0.755)\n",
       "dtype: object"
      ]
     },
     "execution_count": 42,
     "metadata": {},
     "output_type": "execute_result"
    },
    {
     "data": {
      "image/png": "[encoded data removed]",
      "text/plain": [
       "<Figure size 432x288 with 1 Axes>"
      ]
     },
     "metadata": {
      "needs_background": "light"
     },
     "output_type": "display_data"
    },
    {
     "data": {
      "image/png": "[encoded data removed]",
      "text/plain": [
       "<Figure size 432x288 with 1 Axes>"
      ]
     },
     "metadata": {
      "needs_background": "light"
     },
     "output_type": "display_data"
    }
   ],
   "source": [
    "df.groupby(['CustomerGender']).plot(kind='bar')"
   ]
  },
  {
   "cell_type": "code",
   "execution_count": null,
   "metadata": {},
   "outputs": [],
   "source": []
  }
 ],
 "metadata": {
  "kernelspec": {
   "display_name": "Python 3",
   "language": "python",
   "name": "python3"
  },
  "language_info": {
   "codemirror_mode": {
    "name": "ipython",
    "version": 3
   },
   "file_extension": ".py",
   "mimetype": "text/x-python",
   "name": "python",
   "nbconvert_exporter": "python",
   "pygments_lexer": "ipython3",
   "version": "3.7.4"
  }
 },
 "nbformat": 4,
 "nbformat_minor": 2
}
